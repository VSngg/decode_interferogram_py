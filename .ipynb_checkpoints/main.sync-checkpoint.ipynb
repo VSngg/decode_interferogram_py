{
 "cells": [
  {
   "cell_type": "code",
   "execution_count": null,
   "id": "de0ac6ac",
   "metadata": {},
   "outputs": [],
   "source": [
    "from skimage import io\n",
    "from skimage.filters import gaussian, roberts\n",
    "from matplotlib import pyplot as plt\n",
    "\n",
    "img = io.imread(\"images/1.png\", as_gray=True)\n",
    "\n",
    "# длина волны монохромного излучения \n",
    "waveLength = 635\n",
    "# реальная видимая ширина в окуляре микроскопа\n",
    "realLength = 3000"
   ]
  },
  {
   "cell_type": "code",
   "execution_count": null,
   "id": "f1bab8be",
   "metadata": {},
   "outputs": [],
   "source": [
    "# сколько раз надо пропустить фото через фильтр Гаусса\n",
    "nGaussian = 11\n",
    "gaussianImg = gaussian(img, nGaussian)\n",
    "plt.imshow(gaussianImg, cmap='gray')"
   ]
  },
  {
   "cell_type": "code",
   "execution_count": null,
   "id": "d51c9f73",
   "metadata": {},
   "outputs": [],
   "source": [
    "fig, axes = plt.subplots(nrows=2, ncols=2, \n",
    "        sharex=True, sharey=True, figsize=(8, 8))\n",
    "\n",
    "ax = axes.ravel()\n",
    "\n",
    "ax[0].imshow(img, cmap=plt.cm.gray)\n",
    "ax[0].set_title('Оригинал')\n",
    "\n",
    "g1=gaussian(img, 1)\n",
    "ax[1].imshow(g1,cmap=plt.cm.gray)\n",
    "ax[1].set_title('1')\n",
    "\n",
    "g2=gaussian(img, 7)\n",
    "ax[2].imshow(g2,cmap=plt.cm.gray)\n",
    "ax[2].set_title('7')\n",
    "\n",
    "g3=gaussian(img, 11)\n",
    "ax[3].imshow(g3,cmap=plt.cm.gray)\n",
    "ax[3].set_title('11')\n",
    "\n",
    "for a in ax:\n",
    "    a.axis('off')\n",
    "\n",
    "plt.tight_layout()\n",
    "plt.show()"
   ]
  }
 ],
 "metadata": {
  "kernelspec": {
   "display_name": "Python 3 (ipykernel)",
   "language": "python",
   "name": "python3"
  },
  "language_info": {
   "codemirror_mode": {
    "name": "ipython",
    "version": 3
   },
   "file_extension": ".py",
   "mimetype": "text/x-python",
   "name": "python",
   "nbconvert_exporter": "python",
   "pygments_lexer": "ipython3",
   "version": "3.10.6"
  }
 },
 "nbformat": 4,
 "nbformat_minor": 5
}
